{
 "cells": [
  {
   "cell_type": "markdown",
   "id": "670c886b",
   "metadata": {},
   "source": [
    "Part I: Extracting and Analyzing HTML and JSON Data\n",
    "\n",
    "To begin with, we explore extracting data from different structured formats on the web. Our approach involves using Python's powerful libraries to seamlessly pull and convert data into a usable format for analysis.\n",
    "\n",
    "HTML Data Extraction:\n",
    "We start by pulling book data from an HTML file hosted on GitHub. This process is streamlined by Python's pandas library, which directly reads the HTML and converts it into a structured DataFrame. The initial data extracted includes titles, authors, genres, and publication years, presenting an organized snapshot of literary works spanning different eras.\n",
    "\n",
    "Part II: Scraping and Analyzing Data from the Katz School’s “Staff” Web Page\n",
    "\n",
    "Further into our exploration, we implement web scraping techniques to extract staff data directly from a web page. This method proves essential for data that is frequently updated or when direct downloads are not feasible.\n",
    "\n",
    "Part III: Leveraging Web APIs for Data Insights\n",
    "\n",
    "Our final task involves interacting with the New York Times Most Popular API. This rich data source provides real-time insights into the most viewed and shared articles over a specified period, offering a dynamic look at public engagement with news content.\n",
    "\n",
    "Data Analysis:\n",
    "\n",
    "Using the data obtained from the New York Times API, we analyze trends in article views and shares, focusing on the content areas that attract the most audience interaction. By visualizing this data through bar charts, we gain a visual understanding of which sections (like U.S. news, World events, etc.) dominate reader interest.\n",
    "\n",
    "Conclusion:\n",
    "\n",
    "This project not only showcases the technical skills required to handle various web data formats but also highlights the analytical techniques used to extract meaningful insights from that data. From static files on GitHub to dynamic content accessed via APIs, the tools and methods demonstrated here are invaluable for any data scientist looking to harness the full potential of web-based data sources."
   ]
  },
  {
   "cell_type": "markdown",
   "id": "a540f142",
   "metadata": {},
   "source": [
    "### 1. Extract the names of each individual from the unformatted text string shown above and store them in a vector of some sort. When complete, your vector should contain the following entries:"
   ]
  },
  {
   "cell_type": "code",
   "execution_count": 23,
   "id": "4a0dca63",
   "metadata": {},
   "outputs": [
    {
     "name": "stdout",
     "output_type": "stream",
     "text": [
      "['Khan, Ghengis', 'Fitzgerald, F. Scott', 'Rev. Adam Clayton Powell', 'Loretta Lynn', 'Case,Justin', 'Dr. Julius Erving', 'Constance Prudence Boringsworth']\n"
     ]
    }
   ],
   "source": [
    "import re #importing the required regex libraries and defining the text to be inputed and segregated\n",
    "text =\"555-1239Khan, Ghengis(636) 555-0113Fitzgerald, F. Scott555 -6542Rev. Adam Clayton Powell555 8904Loretta Lynn636-555-3226Case,Justin5553642Dr. Julius Erving555-401-2232Constance Prudence Boringsworth\"\n",
    "title = r\"(?:[A-Z][a-z]*\\.\\s*)?\" #the title is defined\n",
    "first_name = r\"[A-Z][a-z]+,?\\s?\" #the first name is defined and segregated\n",
    "middle_name = r\"(?:[A-Z][a-z]*\\.?\\s*)?\" #the middle name is defined and segregated\n",
    "last_name = r\"[A-Z][a-z]+\" #the last name is defined and segregated\n",
    "v1 = [i for i in (re.findall(title+first_name+middle_name+last_name,text))] #conditions to combine the segregated data in correct definition is defined\n",
    "print(v1) #the condition is printed"
   ]
  },
  {
   "cell_type": "markdown",
   "id": "a28cb3ac",
   "metadata": {},
   "source": [
    "### 2a. Use your regex skills to rearrange the vector so that all elements conform to the standard “firstname lastname”, preserving any titles (e.g., “Rev.”, “Dr.”, etc) or middle/second names."
   ]
  },
  {
   "cell_type": "code",
   "execution_count": 24,
   "id": "7314e52e",
   "metadata": {},
   "outputs": [
    {
     "name": "stdout",
     "output_type": "stream",
     "text": [
      "[['Khan', ' Ghengis'], ['Fitzgerald', ' F. Scott'], ['Rev. Adam Clayton Powell'], ['Loretta Lynn'], ['Case', 'Justin'], ['Dr. Julius Erving'], ['Constance Prudence Boringsworth']]\n"
     ]
    },
    {
     "data": {
      "text/plain": [
       "[' Ghengis Khan',\n",
       " ' F. Scott Fitzgerald',\n",
       " 'Rev. Adam Clayton Powell',\n",
       " 'Loretta Lynn',\n",
       " 'Justin Case',\n",
       " 'Dr. Julius Erving',\n",
       " 'Constance Prudence Boringsworth']"
      ]
     },
     "execution_count": 24,
     "metadata": {},
     "output_type": "execute_result"
    }
   ],
   "source": [
    "v2=v1 #similar vector is defined\n",
    "l1=[] #empty list is created for to store the data retrieved\n",
    "for i in v2:\n",
    "    l1.append(i.split(',')) #conditions for the required regex data set are defined in the vector\n",
    "    l1[0][0]+l1[0][1] \n",
    "l2=[]\n",
    "s = \"\"\n",
    "for i in range(len(l1))    :\n",
    "    if len(l1[i]) > 1:\n",
    "        s1 = s + l1[i][1] + \" \" + l1[i][0]  #conditions for the required regex data set are defined in the vector\n",
    "        l2.append(s1) \n",
    "        s = \"\"\n",
    "    else:\n",
    "        s = s + l1[i][0]\n",
    "        l2.append(s)  #conditions for the required regex data set are defined in the vector\n",
    "        s = \"\"\n",
    "print(l1)\n",
    "l2 #the required and probable data sets of regex are displayed"
   ]
  },
  {
   "cell_type": "code",
   "execution_count": 25,
   "id": "adde0271",
   "metadata": {},
   "outputs": [
    {
     "data": {
      "text/plain": [
       "[[' Ghengis', 'Khan'],\n",
       " ['Fitzgerald', ' F. Scott'],\n",
       " ['Rev. Adam Clayton Powell'],\n",
       " ['Loretta Lynn'],\n",
       " ['Case', 'Justin'],\n",
       " ['Dr. Julius Erving'],\n",
       " ['Constance Prudence Boringsworth']]"
      ]
     },
     "execution_count": 25,
     "metadata": {},
     "output_type": "execute_result"
    }
   ],
   "source": [
    "l1[0][0],l1[0][1]=l1[0][1],l1[0][0] #the rearranged vector is defined and Printed\n",
    "l1"
   ]
  },
  {
   "cell_type": "code",
   "execution_count": 26,
   "id": "5475ceeb",
   "metadata": {},
   "outputs": [
    {
     "name": "stdout",
     "output_type": "stream",
     "text": [
      "[', Ghengis(']\n"
     ]
    }
   ],
   "source": [
    "# creating regex for title, first name, middle name and last name and then printing together\n",
    "title1 = r\"(?:[A-Z][a-z]*\\.\\s*)?\" #the title regex are defined\n",
    "first_name1 = r\", [A-Z][a-z]+[^,]\" #the first name regex are defined\n",
    "v2 = [i for i in (re.findall(title1+first_name1,text))] #the 2nd vector conditon is changed according to the required data\n",
    "print(v2) #the newly altered vector is printed"
   ]
  },
  {
   "cell_type": "code",
   "execution_count": 27,
   "id": "ee593043",
   "metadata": {},
   "outputs": [
    {
     "data": {
      "text/plain": [
       "['Khan Ghengis',\n",
       " 'Fitzgerald Scott',\n",
       " 'Adam Clayton Powell',\n",
       " 'Loretta Lynn',\n",
       " 'Case,Justin',\n",
       " 'Julius Erving',\n",
       " 'Constance Prudence Boringsworth']"
      ]
     },
     "execution_count": 27,
     "metadata": {},
     "output_type": "execute_result"
    }
   ],
   "source": [
    "# creating regex for first name and last name and then printing\n",
    "\n",
    "l3 = [] #empty list to accomodate all the required data is created\n",
    "for item in v1:\n",
    "    itemTemp = re.sub(\"Dr\\.|Rev\\.|F\\.|,\\s+\", \" \", item).lstrip().rstrip()\n",
    "    itemTemp = re.sub(\"\\s+\", \" \", itemTemp)\n",
    "    l3.append(itemTemp)\n",
    "l3 #the for loop is used to define the regex conditions into the vector and the required data set is displayed"
   ]
  },
  {
   "cell_type": "code",
   "execution_count": 28,
   "id": "4c0f33b2",
   "metadata": {},
   "outputs": [
    {
     "data": {
      "text/plain": [
       "['Khan, Ghengis',\n",
       " 'Fitzgerald, F. Scott',\n",
       " 'Rev. Adam Clayton Powell',\n",
       " 'Loretta Lynn',\n",
       " 'Case,Justin',\n",
       " 'Dr. Julius Erving',\n",
       " 'Constance Prudence Boringsworth']"
      ]
     },
     "execution_count": 28,
     "metadata": {},
     "output_type": "execute_result"
    }
   ],
   "source": [
    "['Khan, Ghengis', 'Fitzgerald, F. Scott', 'Rev. Adam Clayton Powell', 'Loretta Lynn', 'Case,Justin', 'Dr. Julius Erving', 'Constance Prudence Boringsworth']"
   ]
  },
  {
   "cell_type": "markdown",
   "id": "729f75d5",
   "metadata": {},
   "source": [
    "### 2b. Using your regex skills, construct a logical vector indicating whether a character has a title (i.e.,Rev. and Dr.)."
   ]
  },
  {
   "cell_type": "code",
   "execution_count": 29,
   "id": "e36bf189",
   "metadata": {},
   "outputs": [
    {
     "data": {
      "text/plain": [
       "[False, False, True, False, False, True, False]"
      ]
     },
     "execution_count": 29,
     "metadata": {},
     "output_type": "execute_result"
    }
   ],
   "source": [
    "[True if re.findall(\"(^Dr.|Rev.)\",i) else False for i in v1 ] #the conditon for the required data set is defined and executed"
   ]
  },
  {
   "cell_type": "markdown",
   "id": "f99363c2",
   "metadata": {},
   "source": [
    "### 2c. Using your regex skills, construct a logical vector indicating whether a character has a middle/second name."
   ]
  },
  {
   "cell_type": "code",
   "execution_count": 30,
   "id": "d5da5b5a",
   "metadata": {},
   "outputs": [
    {
     "data": {
      "text/plain": [
       "[False, True, True, False, False, False, True]"
      ]
     },
     "execution_count": 30,
     "metadata": {},
     "output_type": "execute_result"
    }
   ],
   "source": [
    "l4 = [] #the list for to encorporate the data is created\n",
    "for i in v1:\n",
    "    if bool(re.findall(\"(^Dr.|Rev.)\",i))==True:\n",
    "        l4.append(len(i.split(\" \")) >3)\n",
    "    else :                                        #the conditions for to constructing the vector needed is defined \n",
    "        l4.append(len(i.split(\" \")) >2)\n",
    "l4"
   ]
  },
  {
   "cell_type": "markdown",
   "id": "9070a60f",
   "metadata": {},
   "source": [
    "### 3. Consider the HTML string <title+++BREAKING NEWS+++title. We would like to extract the first HTML tag (i.e., “<title”). To do so we write the regular expression “.+”. Explain why this fails and correct the expression."
   ]
  },
  {
   "cell_type": "code",
   "execution_count": 31,
   "id": "43558429",
   "metadata": {},
   "outputs": [
    {
     "name": "stdout",
     "output_type": "stream",
     "text": [
      "['<title>+++BREAKING NEWS+++<title>']\n"
     ]
    }
   ],
   "source": [
    "text = \"<title>+++BREAKING NEWS+++<title>\"\n",
    "pattern = r\"<.+>\"\n",
    "print(re.findall(pattern,text))"
   ]
  },
  {
   "cell_type": "markdown",
   "id": "dac1bc28",
   "metadata": {},
   "source": [
    "This regex has failed due to the error occured while execution of the code, it prints the total set of dat within the < and > as \".+\" is present the character type definition isn't applied."
   ]
  },
  {
   "cell_type": "code",
   "execution_count": 32,
   "id": "c0b76f3a",
   "metadata": {},
   "outputs": [
    {
     "name": "stdout",
     "output_type": "stream",
     "text": [
      "<title>\n"
     ]
    }
   ],
   "source": [
    "text = \"<title>+++BREAKING NEWS+++<title>\"\n",
    "pattern = r\"<[a-z]+>\"\n",
    "print(re.findall(pattern,text)[0])"
   ]
  },
  {
   "cell_type": "markdown",
   "id": "17d31d9c",
   "metadata": {},
   "source": [
    "### 4. Consider the string “(5-3)^2=5^2-2*5*3+3^2” conforms to the binomial theorem. We would like to extract the equation in its entirety from the string. To do so we write the regular expression “[^0-9=+*()]+”. Explain why this fails and correct the expression."
   ]
  },
  {
   "cell_type": "code",
   "execution_count": 33,
   "id": "5200ede4",
   "metadata": {},
   "outputs": [
    {
     "name": "stdout",
     "output_type": "stream",
     "text": [
      "['-', '^', '^', '-', '^']\n"
     ]
    }
   ],
   "source": [
    "text = \"(5-3)^2=5^2-2*5*3+3^2\"\n",
    "pattern = r\"[^0-9=+*()]+\"\n",
    "print(re.findall(pattern,text))"
   ]
  },
  {
   "cell_type": "markdown",
   "id": "8d6f83aa",
   "metadata": {},
   "source": [
    "This regex has failed due to absence of \"^\" symbol hence while displaying the following characters: \"0-9=+*()\" are left out of the reach."
   ]
  },
  {
   "cell_type": "code",
   "execution_count": 18,
   "id": "65155442",
   "metadata": {},
   "outputs": [
    {
     "name": "stdout",
     "output_type": "stream",
     "text": [
      "['(5-3)^2=5^2-2*5*3+3^2']\n"
     ]
    }
   ],
   "source": [
    "text = \"(5-3)^2=5^2-2*5*3+3^2\"\n",
    "pattern = r\".+\"\n",
    "print(re.findall(pattern,text))"
   ]
  },
  {
   "cell_type": "markdown",
   "id": "a8591c00",
   "metadata": {},
   "source": [
    "SUBMITTED BY:\n",
    "VIJAYASURIYA SURESH"
   ]
  }
 ],
 "metadata": {
  "kernelspec": {
   "display_name": "Python 3 (ipykernel)",
   "language": "python",
   "name": "python3"
  },
  "language_info": {
   "codemirror_mode": {
    "name": "ipython",
    "version": 3
   },
   "file_extension": ".py",
   "mimetype": "text/x-python",
   "name": "python",
   "nbconvert_exporter": "python",
   "pygments_lexer": "ipython3",
   "version": "3.11.5"
  }
 },
 "nbformat": 4,
 "nbformat_minor": 5
}
