{
 "cells": [
  {
   "cell_type": "markdown",
   "id": "b2db17da",
   "metadata": {},
   "source": [
    "# Comprehensive Data Analysis Using List Comprehensions and Functions in Python\n",
    "This script provides a structured approach to analyze automobile data from a CSV file named cars-sample35.txt. The dataset contains seven attributes per automobile. This analysis involves segregating these attributes into separate lists, filtering data based on specific criteria using list comprehensions, and leveraging user-defined functions to create dictionary objects. Below, each section is explained in detail:\n",
    "\n",
    "Pre-task: Importing Data and Segregating Attributes\n",
    "The script starts by importing the CSV file and segregating the automobile attributes into seven distinct lists. This separation facilitates individual attribute manipulation and analysis."
   ]
  },
  {
   "cell_type": "code",
   "execution_count": 1,
   "id": "fda6d318",
   "metadata": {},
   "outputs": [
    {
     "name": "stdout",
     "output_type": "stream",
     "text": [
      "['high', 'high', 'high', 'high', 'vhigh', 'low', 'med', 'low', 'vhigh', 'vhigh', 'low', 'vhigh', 'high', 'low', 'high', 'vhigh', 'med', 'high', 'low', 'low', 'med', 'low', 'vhigh', 'med', 'low', 'vhigh', 'med', 'high', 'low', 'med', 'high', 'high', 'low', 'vhigh', 'high']\n",
      "['high', 'high', 'high', 'low', 'low', 'high', 'med', 'low', 'low', 'high', 'low', 'low', 'low', 'vhigh', 'low', 'high', 'med', 'low', 'low', 'low', 'high', 'low', 'high', 'vhigh', 'vhigh', 'low', 'vhigh', 'high', 'high', 'high', 'low', 'vhigh', 'low', 'vhigh', 'low']\n",
      "['2', '4', '4', '2', '3', '2', '4', '3', '2', '4', '2', '4', '2', '3', '5more', '2', '2', '5more', '3', '2', '4', '2', '5more', '2', '4', '3', '3', '3', '5more', '5more', '3', '5more', '5more', '4', '3']\n",
      "['4', 'more', 'more', 'more', '2', '2', 'more', '2', '2', '4', '2', 'more', '4', 'more', '2', 'more', '2', '4', 'more', '2', '2', '2', '4', '2', '4', 'more', '4', '4', '2', '2', '4', '4', '2', '2', '2']\n",
      "['med', 'small', 'big', 'big', 'med', 'small', 'med', 'big', 'small', 'med', 'med', 'small', 'big', 'big', 'big', 'med', 'small', 'med', 'med', 'big', 'big', 'small', 'med', 'big', 'big', 'big', 'small', 'med', 'big', 'med', 'med', 'med', 'med', 'big', 'big']\n",
      "['low', 'high', 'low', 'high', 'med', 'low', 'high', 'med', 'low', 'low', 'med', 'high', 'med', 'low', 'med', 'high', 'low', 'high', 'high', 'med', 'high', 'high', 'med', 'low', 'low', 'low', 'low', 'med', 'low', 'med', 'high', 'med', 'low', 'high', 'high']\n",
      "['unacc', 'acc', 'unacc', 'acc', 'unacc', 'unacc', 'vgood', 'unacc', 'unacc', 'unacc', 'unacc', 'acc', 'acc', 'unacc', 'unacc', 'unacc', 'unacc', 'acc', 'vgood', 'unacc', 'unacc', 'unacc', 'unacc', 'unacc', 'unacc', 'unacc', 'unacc', 'unacc', 'unacc', 'unacc', 'acc', 'unacc', 'unacc', 'unacc', 'unacc']\n"
     ]
    }
   ],
   "source": [
    "#Pretask of importation of csv library into the JPYNB python kernel.\n",
    "\n",
    "\n",
    "import csv\n",
    "list1 = [] #Lisiting of empty lists for to acoomodate the values present in the .txt file individually.\n",
    "list2 = []\n",
    "list3 = []\n",
    "list4 = []\n",
    "list5 =[]\n",
    "list6 = []\n",
    "list7 =[]\n",
    "with open('C:/Users/vijay/Downloads/cars-sample35.txt') as csvfile: #Mentioning the pathway for the file\n",
    " readCSV = csv.reader(csvfile)\n",
    " for row in readCSV:\n",
    "        list1.append(row[0]) #appending the values in txt file into the empty list using the for loop\n",
    "        list2.append(row[1])\n",
    "        list3.append(row[2])\n",
    "        list4.append(row[3])\n",
    "        list5.append(row[4])\n",
    "        list6.append(row[5])\n",
    "        list7.append(row[6])\n",
    "print(list1) #printing down the lists appended with the empty values.\n",
    "print(list2)\n",
    "print(list3)\n",
    "print(list4)\n",
    "print(list5)\n",
    "print(list6)\n",
    "print(list7)"
   ]
  },
  {
   "cell_type": "markdown",
   "id": "86024687",
   "metadata": {},
   "source": [
    "Task 1: Identifying Medium Priced Automobiles\n",
    "Using list comprehensions, the script identifies all automobiles with a 'med' price rating, demonstrating a concise method to filter data."
   ]
  },
  {
   "cell_type": "code",
   "execution_count": 3,
   "id": "d91c521f",
   "metadata": {},
   "outputs": [
    {
     "name": "stdout",
     "output_type": "stream",
     "text": [
      "[6, 16, 20, 23, 26, 29]\n"
     ]
    }
   ],
   "source": [
    "#Task 1 is to find the list index values of each automobile having a price rating of \"med\" using list comprehension functions.\n",
    "\n",
    "\n",
    "task_one = [] #creating the empty list to store the task1 results.\n",
    "[task_one.append(i) for i in range(len(list1)) if list1[i] == 'med'] #Enclosing every conditonal clauses \n",
    "                                                                     #and loops into one single comprehension \n",
    "                                                                     #with using the list comprehension \n",
    "                                                                     #techiniques mentioned in module2.'''\n",
    "print(task_one) #printing the results obtained after the conditions in list comprehensions are executed."
   ]
  },
  {
   "cell_type": "markdown",
   "id": "cea87249",
   "metadata": {},
   "source": [
    "Task 2: Extracting Passenger Numbers for Medium Priced Automobiles\n",
    "This task further filters the results from Task 1 to retrieve the \"number of passengers\" for each automobile priced at 'med'."
   ]
  },
  {
   "cell_type": "code",
   "execution_count": 4,
   "id": "6c92c44e",
   "metadata": {},
   "outputs": [
    {
     "name": "stdout",
     "output_type": "stream",
     "text": [
      "['more', '2', '2', '2', '4', '2']\n"
     ]
    }
   ],
   "source": [
    "#Task 2 is to find the \"number of passengers\" value for each auto having a \"price\" value of \"med\" using a list comprehension.\n",
    "\n",
    "\n",
    "task_two= [] #creating the empty list to store the task2 results.\n",
    "[task_two.append(list4[i]) for i in task_one] #Enclosing every conditonal clauses \n",
    "                                                #and loops into one single comprehension \n",
    "                                                #with using the list comprehension \n",
    "                                                #techiniques mentioned in module2.\n",
    "print(task_two)#printing the results obtained after the conditions in list comprehensions are executed."
   ]
  },
  {
   "cell_type": "markdown",
   "id": "76e9f93c",
   "metadata": {},
   "source": [
    "Task 3: High Price and Non-low Maintenance Automobiles\n",
    "The script filters automobiles priced 'high' with a maintenance cost that is not 'low'. This task showcases the ability to apply multiple conditions within list comprehensions."
   ]
  },
  {
   "cell_type": "code",
   "execution_count": 5,
   "id": "95ddb43f",
   "metadata": {},
   "outputs": [
    {
     "name": "stdout",
     "output_type": "stream",
     "text": [
      "[0, 1, 2, 27, 31]\n"
     ]
    }
   ],
   "source": [
    "#Task 3 is to find the index value for each automobile having a price value of \"high\" and a maintenance \n",
    "#value that is not \"low\" using a list comprehension methods.\n",
    "\n",
    "\n",
    "task_three = []#creating the empty list to store the task3 results.\n",
    "[task_three.append(i) for i in range(len(list1)) if list1[i] == 'high' and list2[i] != 'low'] #Enclosing every \n",
    "                                                                                               # conditonal clauses \n",
    "                                                                                               #and loops into one \n",
    "                                                                                               #single comprehension \n",
    "                                                                                               #with using the list \n",
    "                                                                                               #comprehensio techiniques \n",
    "                                                                                             #mentioned in module2.\n",
    "print(task_three) #printing the results obtained after the conditions in list comprehensions are executed."
   ]
  },
  {
   "cell_type": "markdown",
   "id": "40df1dd0",
   "metadata": {},
   "source": [
    "Task 4: Demonstrating Nested List Comprehension\n",
    "This task involves flattening a nested list structure into a single list using nested list comprehensions, which illustrates handling of complex list operations."
   ]
  },
  {
   "cell_type": "code",
   "execution_count": 6,
   "id": "b6ea12a2",
   "metadata": {},
   "outputs": [
    {
     "name": "stdout",
     "output_type": "stream",
     "text": [
      "[1, 2, 3, 'A', 'B', 'C', 4, 5, 'D', 'E']\n"
     ]
    }
   ],
   "source": [
    "#Task 4 is to implement nested loop concepts using list comprehsion methods.\n",
    "\n",
    "\n",
    "task_four = []#creating the empty list to store the task4 results.\n",
    "nested = [ [1, 2, 3], ['A', 'B', 'C'], [4, 5], ['D', 'E'] ]   #The list comprehension technique is used and enclosed into\n",
    "                                                              #for to enclose a nested list into the conditions \n",
    "                                                              #that is created using the list comprehension functions\n",
    "[task_four.append(j) for i in nested for j in i] #The nested list comprehensions are being appeneded into the \n",
    "                                                 #main empty list\n",
    "print(task_four) #printing the results obtained after the conditions in list comprehensions are executed.        "
   ]
  },
  {
   "cell_type": "markdown",
   "id": "1802afdd",
   "metadata": {},
   "source": [
    "Task 5: User-Defined Function to Create Dictionary Objects\n",
    "A user-defined function, diction, is introduced to convert a list into a dictionary with keys formatted as specified, enhancing data structure manipulation."
   ]
  },
  {
   "cell_type": "code",
   "execution_count": 7,
   "id": "25befed5",
   "metadata": {},
   "outputs": [
    {
     "data": {
      "text/plain": [
       "{'A0': 'high', 'A1': 'high', 'A2': 'high'}"
      ]
     },
     "execution_count": 7,
     "metadata": {},
     "output_type": "execute_result"
    }
   ],
   "source": [
    "#Task 5 is to create a user defined function that accepts as input one of the seven automobile\n",
    "#attribute lists as well as an integer value and returns a Python dict object.\n",
    "\n",
    "\n",
    "def diction(nlist, k): #Creating a user defined function and enlisting the parameters to be passed into the function.\n",
    "    dict_task_five = {} #The dictionary to enclose the key/value pairs of functions is created to be passed \n",
    "                        #with a integer parameter and a dict object is passed into the user defined function and \n",
    "                        #the dict is being defined.            \n",
    "    for i in range((k)):#The condition for the retrieval of the data from the range is given. \n",
    "        dict_task_five[f\"A{i}\"] = nlist[i] #The values are appended into the nlist created to be passed into the user function.\n",
    "    return(dict_task_five) \n",
    "diction(list1,3)   #The parameters are obtained and executed by adding to the user defined function."
   ]
  },
  {
   "cell_type": "markdown",
   "id": "182de137",
   "metadata": {},
   "source": [
    "Task 6: Using the Function to Compare Attributes\n",
    "The diction function is reused to compare specific attributes ('Price' and 'Luggage') from the dataset, further demonstrating the function's reusability."
   ]
  },
  {
   "cell_type": "code",
   "execution_count": 8,
   "id": "d878d840",
   "metadata": {},
   "outputs": [
    {
     "name": "stdout",
     "output_type": "stream",
     "text": [
      "The key price of the key value is : vhigh\n",
      "The luggage capacity of the same is : med\n"
     ]
    }
   ],
   "source": [
    "#Task 6 is to reusable user-defined function, use it to create two new dict objects containing\n",
    "#the first seven elements of the ‘Price’ and ‘Luggage’ lists, respectively with \"A4\" key value.\n",
    "\n",
    "\n",
    "dict_task_six = diction(list1,7)   #New directory is created inorder to pass new parameters into the pre defined functions.\n",
    "print(\"The key price of the key value is :\",dict_task_six['A4']) #The A4 value is being added to the command \n",
    "                                                                 #and the price attribute gets printed.'''\n",
    "dict1_task_six = diction(list5,7)        \n",
    "print(\"The luggage capacity of the same is :\",dict1_task_six['A4'])#The A4 value is being added to the command \n",
    "                                                                   #and the luggage capacity attribute gets printed."
   ]
  },
  {
   "cell_type": "markdown",
   "id": "1b7560b4",
   "metadata": {},
   "source": [
    "This script showcases different techniques for data manipulation and extraction, making it a comprehensive guide for beginners and intermediate users to perform effective data analysis in Python."
   ]
  }
 ],
 "metadata": {
  "kernelspec": {
   "display_name": "Python 3 (ipykernel)",
   "language": "python",
   "name": "python3"
  },
  "language_info": {
   "codemirror_mode": {
    "name": "ipython",
    "version": 3
   },
   "file_extension": ".py",
   "mimetype": "text/x-python",
   "name": "python",
   "nbconvert_exporter": "python",
   "pygments_lexer": "ipython3",
   "version": "3.11.5"
  }
 },
 "nbformat": 4,
 "nbformat_minor": 5
}
