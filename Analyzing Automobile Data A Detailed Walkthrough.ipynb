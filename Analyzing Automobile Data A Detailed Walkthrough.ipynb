{
 "cells": [
  {
   "cell_type": "markdown",
   "id": "09cd1fa7",
   "metadata": {},
   "source": [
    "# Analyzing Automobile Data: A Detailed Walkthrough\n",
    "This Python script is designed to analyze automobile data from a CSV file named cars-sample35.txt. The data consists of seven attributes per automobile, which are segregated into individual lists. The script then uses various operations to extract specific insights from this data. Below, each task is explained in detail along with the code segments."
   ]
  },
  {
   "cell_type": "markdown",
   "id": "69db5e2b",
   "metadata": {},
   "source": [
    "Task 1: Loading Data and Segregating Attributes\n",
    "Firstly, the data from the CSV file is read using Python's csv module. Each row from the file is split into seven distinct attributes which are then stored in separate lists for further analysis. This allows for easy access to each specific attribute across all data points."
   ]
  },
  {
   "cell_type": "code",
   "execution_count": 34,
   "id": "baa2f228",
   "metadata": {},
   "outputs": [
    {
     "name": "stdout",
     "output_type": "stream",
     "text": [
      "['high', 'high', '2', '4', 'med', 'low', 'unacc']\n",
      "['high', 'high', '4', 'more', 'small', 'high', 'acc']\n",
      "['high', 'high', '4', 'more', 'big', 'low', 'unacc']\n",
      "['high', 'low', '2', 'more', 'big', 'high', 'acc']\n",
      "['vhigh', 'low', '3', '2', 'med', 'med', 'unacc']\n",
      "['low', 'high', '2', '2', 'small', 'low', 'unacc']\n",
      "['med', 'med', '4', 'more', 'med', 'high', 'vgood']\n",
      "['low', 'low', '3', '2', 'big', 'med', 'unacc']\n",
      "['vhigh', 'low', '2', '2', 'small', 'low', 'unacc']\n",
      "['vhigh', 'high', '4', '4', 'med', 'low', 'unacc']\n",
      "['low', 'low', '2', '2', 'med', 'med', 'unacc']\n",
      "['vhigh', 'low', '4', 'more', 'small', 'high', 'acc']\n",
      "['high', 'low', '2', '4', 'big', 'med', 'acc']\n",
      "['low', 'vhigh', '3', 'more', 'big', 'low', 'unacc']\n",
      "['high', 'low', '5more', '2', 'big', 'med', 'unacc']\n",
      "['vhigh', 'high', '2', 'more', 'med', 'high', 'unacc']\n",
      "['med', 'med', '2', '2', 'small', 'low', 'unacc']\n",
      "['high', 'low', '5more', '4', 'med', 'high', 'acc']\n",
      "['low', 'low', '3', 'more', 'med', 'high', 'vgood']\n",
      "['low', 'low', '2', '2', 'big', 'med', 'unacc']\n",
      "['med', 'high', '4', '2', 'big', 'high', 'unacc']\n",
      "['low', 'low', '2', '2', 'small', 'high', 'unacc']\n",
      "['vhigh', 'high', '5more', '4', 'med', 'med', 'unacc']\n",
      "['med', 'vhigh', '2', '2', 'big', 'low', 'unacc']\n",
      "['low', 'vhigh', '4', '4', 'big', 'low', 'unacc']\n",
      "['vhigh', 'low', '3', 'more', 'big', 'low', 'unacc']\n",
      "['med', 'vhigh', '3', '4', 'small', 'low', 'unacc']\n",
      "['high', 'high', '3', '4', 'med', 'med', 'unacc']\n",
      "['low', 'high', '5more', '2', 'big', 'low', 'unacc']\n",
      "['med', 'high', '5more', '2', 'med', 'med', 'unacc']\n",
      "['high', 'low', '3', '4', 'med', 'high', 'acc']\n",
      "['high', 'vhigh', '5more', '4', 'med', 'med', 'unacc']\n",
      "['low', 'low', '5more', '2', 'med', 'low', 'unacc']\n",
      "['vhigh', 'vhigh', '4', '2', 'big', 'high', 'unacc']\n",
      "['high', 'low', '3', '2', 'big', 'high', 'unacc']\n"
     ]
    }
   ],
   "source": [
    "#pretask\n",
    "\n",
    "import csv\n",
    "with open('C:/Users/vijay/Downloads/cars-sample35.txt') as csvfile: #updated the path from my private system environment\n",
    "    readCSV= csv.reader(csvfile)\n",
    "    for row in readCSV:\n",
    "        print(row) #prints the csv file contents as received from the professor"
   ]
  },
  {
   "cell_type": "code",
   "execution_count": 35,
   "id": "931cca15",
   "metadata": {},
   "outputs": [
    {
     "name": "stdout",
     "output_type": "stream",
     "text": [
      "['high', 'high', 'high', 'high', 'vhigh', 'low', 'med', 'low', 'vhigh', 'vhigh', 'low', 'vhigh', 'high', 'low', 'high', 'vhigh', 'med', 'high', 'low', 'low', 'med', 'low', 'vhigh', 'med', 'low', 'vhigh', 'med', 'high', 'low', 'med', 'high', 'high', 'low', 'vhigh', 'high']\n",
      "['high', 'high', 'high', 'low', 'low', 'high', 'med', 'low', 'low', 'high', 'low', 'low', 'low', 'vhigh', 'low', 'high', 'med', 'low', 'low', 'low', 'high', 'low', 'high', 'vhigh', 'vhigh', 'low', 'vhigh', 'high', 'high', 'high', 'low', 'vhigh', 'low', 'vhigh', 'low']\n",
      "['2', '4', '4', '2', '3', '2', '4', '3', '2', '4', '2', '4', '2', '3', '5more', '2', '2', '5more', '3', '2', '4', '2', '5more', '2', '4', '3', '3', '3', '5more', '5more', '3', '5more', '5more', '4', '3']\n",
      "['4', 'more', 'more', 'more', '2', '2', 'more', '2', '2', '4', '2', 'more', '4', 'more', '2', 'more', '2', '4', 'more', '2', '2', '2', '4', '2', '4', 'more', '4', '4', '2', '2', '4', '4', '2', '2', '2']\n",
      "['med', 'small', 'big', 'big', 'med', 'small', 'med', 'big', 'small', 'med', 'med', 'small', 'big', 'big', 'big', 'med', 'small', 'med', 'med', 'big', 'big', 'small', 'med', 'big', 'big', 'big', 'small', 'med', 'big', 'med', 'med', 'med', 'med', 'big', 'big']\n",
      "['low', 'high', 'low', 'high', 'med', 'low', 'high', 'med', 'low', 'low', 'med', 'high', 'med', 'low', 'med', 'high', 'low', 'high', 'high', 'med', 'high', 'high', 'med', 'low', 'low', 'low', 'low', 'med', 'low', 'med', 'high', 'med', 'low', 'high', 'high']\n",
      "['unacc', 'acc', 'unacc', 'acc', 'unacc', 'unacc', 'vgood', 'unacc', 'unacc', 'unacc', 'unacc', 'acc', 'acc', 'unacc', 'unacc', 'unacc', 'unacc', 'acc', 'vgood', 'unacc', 'unacc', 'unacc', 'unacc', 'unacc', 'unacc', 'unacc', 'unacc', 'unacc', 'unacc', 'unacc', 'acc', 'unacc', 'unacc', 'unacc', 'unacc']\n"
     ]
    }
   ],
   "source": [
    "#TASK 1- To import csv and read the file again and segregate the each column contents and extract the seven attribute into seven ditinct lists\n",
    "list1=[] #defining lists for to each attribute in the csv file\n",
    "list2=[]\n",
    "list3=[]\n",
    "list4=[]\n",
    "list5=[]\n",
    "list6=[]\n",
    "list7=[]\n",
    "with open('C:/Users/vijay/Downloads/cars-sample35.txt') as csvfile:\n",
    "    readCSV= csv.reader(csvfile) #reading the file again\n",
    "    for row in readCSV:\n",
    "        list1.append(row[0]) #appending each list with the seven distinct data sets of the csv file into  the lists defined above.\n",
    "        list2.append(row[1])\n",
    "        list3.append(row[2])\n",
    "        list4.append(row[3])\n",
    "        list5.append(row[4])\n",
    "        list6.append(row[5])\n",
    "        list7.append(row[6])\n",
    "print(list1) #printing the appened lists\n",
    "print(list2)\n",
    "print(list3)\n",
    "print(list4)\n",
    "print(list5)\n",
    "print(list6)\n",
    "print(list7)"
   ]
  },
  {
   "cell_type": "markdown",
   "id": "926dbb0d",
   "metadata": {},
   "source": [
    "Task 2: Finding Indexes of Medium Priced Automobiles\n",
    "This snippet finds the indexes of all automobiles with a 'med' price rating. This is useful for filtering data based on pricing"
   ]
  },
  {
   "cell_type": "code",
   "execution_count": 36,
   "id": "19ac3de9",
   "metadata": {},
   "outputs": [
    {
     "name": "stdout",
     "output_type": "stream",
     "text": [
      "35\n",
      "[6, 16, 20, 23, 26, 29]\n"
     ]
    }
   ],
   "source": [
    "#TASK 2- To find the index values of each automobile  price rating of med.\n",
    "\n",
    "elist1= [] #creating an empty list to accomodate the asked data\n",
    "item = 'med'#assigning the required data set with a created variable called item.\n",
    "print(len(list1))\n",
    "for i in range(len(list1)): #defining conditions for to retrieve the required data set\n",
    "           if list1[i]==item: #using for,if and else loops the conditions are defined\n",
    "        elist1.append(i)\n",
    "    else:\n",
    "        pass\n",
    "print(elist1) #The required data set aconditions are fulfilled and the results are printed."
   ]
  },
  {
   "cell_type": "markdown",
   "id": "27f6a921",
   "metadata": {},
   "source": [
    "Task 3: Extracting Number of Passengers for Medium Priced Automobiles\n",
    "Using the indexes found in Task 2, this segment extracts the \"Number of Passengers\" attribute for cars priced at 'med'."
   ]
  },
  {
   "cell_type": "code",
   "execution_count": 37,
   "id": "b8f1af4b",
   "metadata": {},
   "outputs": [
    {
     "name": "stdout",
     "output_type": "stream",
     "text": [
      "['more', '2', '2', '2', '4', '2']\n"
     ]
    }
   ],
   "source": [
    "#Task 3- Find the \"Number of Passengers\" value for each automobile having price of \"med\"\n",
    "\n",
    "elist2= [] #empty set to accomodate the required data set is created.\n",
    "for i in elist1: #Using for loop th condition to retuen the required data is defined.\n",
    "    elist2.append(list4[i]) #Data is appened into the empty list created.\n",
    "print(elist2) #the results are printed"
   ]
  },
  {
   "cell_type": "markdown",
   "id": "42d3f054",
   "metadata": {},
   "source": [
    "Task 4: Finding Automobiles with High Price and Not Low Maintenance\n",
    "Here, the script finds cars that are priced 'high' but do not have a low maintenance cost, demonstrating how to filter on multiple criteria."
   ]
  },
  {
   "cell_type": "code",
   "execution_count": 48,
   "id": "06a138ea",
   "metadata": {},
   "outputs": [
    {
     "name": "stdout",
     "output_type": "stream",
     "text": [
      "[0, 1, 2, 27, 31]\n"
     ]
    }
   ],
   "source": [
    "#Task4- To find the index value for each automobile having the price \"high\" and maintenance cost of \"Not Low\"\n",
    "\n",
    "elist3=[] #the empty list to store the acquired data is created.\n",
    "for i in range(len(list1)): #the conditon for to get required data is defined using for and if loop statements.\n",
    "    if list1[i] == \"high\" and list2[i] != \"low\":\n",
    "        elist3.append(i)\n",
    "print(elist3) #the required data sets are printed."
   ]
  },
  {
   "cell_type": "markdown",
   "id": "ed8a091a",
   "metadata": {},
   "source": [
    "Task 5: Indexes of Automobiles with 2 Doors and Large Luggage Capacity\n",
    "This task filters cars that have exactly 2 doors and a large luggage capacity, showcasing a more specific data filter."
   ]
  },
  {
   "cell_type": "code",
   "execution_count": 47,
   "id": "747b5926",
   "metadata": {
    "collapsed": true
   },
   "outputs": [
    {
     "name": "stdout",
     "output_type": "stream",
     "text": [
      "[3, 12, 19, 23]\n"
     ]
    }
   ],
   "source": [
    "#Task5- To find the index value of each automobile having 2 doors and luggage value of \"big\"\n",
    "\n",
    "elist4 = [] #empty list to store the acquired data is created\n",
    "for i in range(len(list3)): #condition to acquire the data is defined using the for and if conditon loop statements\n",
    "    if list3[i] == '2' and list5[i] == 'big': # comparing with both conditions\n",
    "        elist4.append(i) #acquired data is appended\n",
    "print(elist4) #printing the data"
   ]
  },
  {
   "cell_type": "markdown",
   "id": "6abdbb5f",
   "metadata": {},
   "source": [
    "Task 6: Handling Non-Integer Door Numbers\n",
    "The dataset contains some non-integer values for the number of doors (e.g., '5more'). This section converts all entries to integers, demonstrating how to handle custom data conversions."
   ]
  },
  {
   "cell_type": "code",
   "execution_count": 45,
   "id": "9969ae09",
   "metadata": {},
   "outputs": [
    {
     "name": "stdout",
     "output_type": "stream",
     "text": [
      "[2, 4, 4, 2, 3, 2, 4, 3, 2, 4, 2, 4, 2, 3, 5, 2, 2, 5, 3, 2, 4, 2, 5, 2, 4, 3, 3, 3, 5, 5, 3, 5, 5, 4, 3]\n",
      "4\n"
     ]
    }
   ],
   "source": [
    "#Task6- To retuen the data of automobile having only the integer equivalents in door data set.\n",
    "\n",
    "import math #as the question demands math operations the math directory is imported\n",
    "elist5 = [] #empty list to store the acquired data is created. \n",
    "for i in list3:\n",
    "    if i == '5more':\n",
    "        elist5.append(int(5)) #the conditons for to the data to be segregated is defined using for, if, else condition loop statements.\n",
    "    else:\n",
    "        elist5.append(int(i))\n",
    "        \n",
    "print(elist5)\n",
    "print(math.ceil(sum(elist5)/len(elist5))) #the acquired values are printed and rounded of as most consists of decimal points."
   ]
  },
  {
   "cell_type": "markdown",
   "id": "e3643d60",
   "metadata": {},
   "source": [
    "This script effectively demonstrates basic data manipulation techniques such as filtering, converting data types, and calculating averages, which are essential for data analysis tasks."
   ]
  }
 ],
 "metadata": {
  "kernelspec": {
   "display_name": "Python 3 (ipykernel)",
   "language": "python",
   "name": "python3"
  },
  "language_info": {
   "codemirror_mode": {
    "name": "ipython",
    "version": 3
   },
   "file_extension": ".py",
   "mimetype": "text/x-python",
   "name": "python",
   "nbconvert_exporter": "python",
   "pygments_lexer": "ipython3",
   "version": "3.11.5"
  }
 },
 "nbformat": 4,
 "nbformat_minor": 5
}
