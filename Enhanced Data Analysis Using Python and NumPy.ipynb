{
 "cells": [
  {
   "cell_type": "markdown",
   "id": "a3e18403",
   "metadata": {},
   "source": [
    "# Enhanced Data Analysis Using Python and NumPy\n",
    "The following tasks demonstrate various ways to utilize Python and NumPy for data analysis, manipulating arrays, handling CSV data from a URL, and performing statistical computations.\n",
    "\n",
    "Task 1: Finding Common Elements Between Two Arrays\n",
    "This task involves identifying unique common elements between two arrays using NumPy, which is useful for intersecting datasets."
   ]
  },
  {
   "cell_type": "code",
   "execution_count": 1,
   "id": "983549b3",
   "metadata": {},
   "outputs": [
    {
     "name": "stdout",
     "output_type": "stream",
     "text": [
      "[2 4]\n"
     ]
    }
   ],
   "source": [
    "#Task 1 Write a Python/NumPy code block that finds the distinct/unique common items between two arrays.\n",
    "\n",
    "import numpy as np #importing numpy from python directory\n",
    "a = np.array([1, 2, 3, 2, 3, 4, 3, 4, 5, 6]) #defining the np array given in the questions\n",
    "b = np.array([7, 2, 10, 2, 7, 4, 9, 4, 9, 8])\n",
    "print(np.intersect1d(a, b)) #printing the desired result using the intersect function executed between the two defined numpy arrays"
   ]
  },
  {
   "cell_type": "markdown",
   "id": "c3efd530",
   "metadata": {},
   "source": [
    "Task 2: Creating a 5x3 Array Using NumPy's Sequencing\n",
    "This task efficiently creates a 5x3 array using NumPy's arange and reshape methods, showcasing how to generate and manipulate array shapes without manually inputting values."
   ]
  },
  {
   "cell_type": "code",
   "execution_count": 2,
   "id": "a401d42a",
   "metadata": {},
   "outputs": [
    {
     "name": "stdout",
     "output_type": "stream",
     "text": [
      "[[ 1  6 11]\n",
      " [ 2  7 12]\n",
      " [ 3  8 13]\n",
      " [ 4  9 14]\n",
      " [ 5 10 15]]\n"
     ]
    }
   ],
   "source": [
    "#Task 2 Create a 5x3 array using knowledge you have of Python’s / NumPy’s sequencing functionality so that you do not need to explicitly key in every integer value.\n",
    "\n",
    "import numpy as np #importing numpy from python directory\n",
    "arr = np.arange(1,16).reshape(3,5) #as defined in the question an 2D array is defined with dimension of 3x5 \n",
    "print(arr.T) #the required result is printed using the transpose function endured within the the print function."
   ]
  },
  {
   "cell_type": "markdown",
   "id": "b207106e",
   "metadata": {},
   "source": [
    "Task 3: Removing Specific Items from an Array\n",
    "Here, we remove elements from array a that are also present in array b, demonstrating set operations in NumPy for data cleaning."
   ]
  },
  {
   "cell_type": "code",
   "execution_count": 3,
   "id": "c5829839",
   "metadata": {},
   "outputs": [
    {
     "name": "stdout",
     "output_type": "stream",
     "text": [
      "[ 1  7  8 15]\n"
     ]
    }
   ],
   "source": [
    "#Task 3 Write a Python/Numpy code block that removes from array a any items that are also present in array b.\n",
    "\n",
    "import numpy as np #importing numpy from python directory\n",
    "a = np.array([12, 5, 7, 15, 3, 1, 8])\n",
    "b = np.array([14, 6, 3, 11, 19, 12, 5]) #the given arrays in the assignment are defined\n",
    "c = np.setdiff1d(a, b) #to remove from array a any items that are also present in array b the set difference function is called and executed.\n",
    "print(c) #the desired result is printed"
   ]
  },
  {
   "cell_type": "markdown",
   "id": "fecca1e8",
   "metadata": {},
   "source": [
    "Task 4: Flattening a Multidimensional Array\n",
    "This task shows how to convert a multidimensional array into a one-dimensional array, which is useful for data serialization or flattening data structures."
   ]
  },
  {
   "cell_type": "code",
   "execution_count": 4,
   "id": "1d341777",
   "metadata": {},
   "outputs": [
    {
     "data": {
      "text/plain": [
       "array([ 1,  2,  3,  4,  5,  6,  7,  8,  9, 10, 11, 12, 13, 14, 15])"
      ]
     },
     "execution_count": 4,
     "metadata": {},
     "output_type": "execute_result"
    }
   ],
   "source": [
    "#Task 4 Process of tranforming a multidimensional array to a unidimensional array.\n",
    "\n",
    "import numpy as np #importing numpy from python directory\n",
    "arr = np.arange(1,16).reshape(3,5) #the same array from question 2 is carried on to this task\n",
    "f = arr.flatten() #to make the array 1D the flattenning function is called\n",
    "f #the desired result is stored in another 1D array and that array is being called for to print the result desired."
   ]
  },
  {
   "cell_type": "markdown",
   "id": "a60b2154",
   "metadata": {},
   "source": [
    "Task 5: Comprehensive Analysis of Water Consumption Data\n",
    "We analyze a dataset concerning NYC's water consumption by loading it from a GitHub repository, showcasing how to work with remote data sources."
   ]
  },
  {
   "cell_type": "code",
   "execution_count": 5,
   "id": "5d61e0cb",
   "metadata": {},
   "outputs": [
    {
     "data": {
      "text/plain": [
       "array([[   1979. , 7102100. ,    1512. ,     213. ],\n",
       "       [   1980. , 7071639. ,    1506. ,     213. ],\n",
       "       [   1981. , 7089241. ,    1309. ,     185. ],\n",
       "       [   1982. , 7109105. ,    1382. ,     194. ],\n",
       "       [   1983. , 7181224. ,    1424. ,     198. ],\n",
       "       [   1984. , 7234514. ,    1465. ,     203. ],\n",
       "       [   1985. , 7274054. ,    1326. ,     182. ],\n",
       "       [   1986. , 7319246. ,    1351. ,     185. ],\n",
       "       [   1987. , 7342476. ,    1447. ,     197. ],\n",
       "       [   1988. , 7353719. ,    1484. ,     202. ],\n",
       "       [   1989. , 7344175. ,    1402. ,     191. ],\n",
       "       [   1990. , 7335650. ,    1424. ,     194. ],\n",
       "       [   1991. , 7374501. ,    1469. ,     199. ],\n",
       "       [   1992. , 7428944. ,    1369. ,     184. ],\n",
       "       [   1993. , 7506166. ,    1368.5,     182. ],\n",
       "       [   1994. , 7570458. ,    1357.7,     179. ],\n",
       "       [   1995. , 7633040. ,    1325.7,     174. ],\n",
       "       [   1996. , 7697812. ,    1297.9,     169. ],\n",
       "       [   1997. , 7773443. ,    1205.5,     155. ],\n",
       "       [   1998. , 7858259. ,    1219.5,     155. ],\n",
       "       [   1999. , 7947660. ,    1237.2,     156. ],\n",
       "       [   2000. , 8008278. ,    1240.4,     155. ],\n",
       "       [   2001. , 8024963.5,    1184. ,     148. ],\n",
       "       [   2002. , 8041649. ,    1135.6,     141. ],\n",
       "       [   2003. , 8058334.5,    1093.7,     136. ],\n",
       "       [   2004. , 8075020. ,    1099.5,     136. ],\n",
       "       [   2005. , 8091705.5,    1138. ,     141. ],\n",
       "       [   2006. , 8108391. ,    1069. ,     132. ],\n",
       "       [   2007. , 8125076.5,    1114. ,     137. ],\n",
       "       [   2008. , 8141762. ,    1098. ,     135. ],\n",
       "       [   2009. , 8158447.5,    1007.5,     123. ],\n",
       "       [   2010. , 8175133. ,    1039. ,     127. ],\n",
       "       [   2011. , 8272963. ,    1021. ,     123. ],\n",
       "       [   2012. , 8348032. ,    1009.1,     121. ],\n",
       "       [   2013. , 8398739. ,    1006.1,     120. ],\n",
       "       [   2014. , 8437387. ,     996. ,     118. ],\n",
       "       [   2015. , 8468181. ,    1009. ,     119. ],\n",
       "       [   2016. , 8475976. ,    1002. ,     118. ],\n",
       "       [   2017. , 8438271. ,     990.2,     117. ],\n",
       "       [   2018. , 8398748. ,    1007.5,     120. ],\n",
       "       [   2019. , 8336817. ,     987.4,     118. ]])"
      ]
     },
     "execution_count": 5,
     "metadata": {},
     "output_type": "execute_result"
    }
   ],
   "source": [
    "#Task 5 Pretak to read the csv file from in raw form from the github server repository.\n",
    "\n",
    "import pandas #importing panda funtions from the python directory\n",
    "import numpy as np #importing numpy from python directory\n",
    "np.set_printoptions(suppress = True) # suppress scientific notation\n",
    "nyc_water = pandas.read_csv('https://raw.githubusercontent.com/Vijayasuriya/Water_consumption_AP_ASSI3/main/M3_Data%20(1).csv').to_numpy()\n",
    "type(nyc_water) #the given file is uploaded to the github repository\n",
    "nyc_water       #and the link for the raw dataset are retrieved using csv retrieval function."
   ]
  },
  {
   "cell_type": "code",
   "execution_count": 6,
   "id": "a1e10f39",
   "metadata": {},
   "outputs": [
    {
     "data": {
      "text/plain": [
       "1512.0"
      ]
     },
     "execution_count": 6,
     "metadata": {},
     "output_type": "execute_result"
    }
   ],
   "source": [
    "#Task 5.1 What is the maximum yearly NYC consumption of water in millions of gallons per day?\n",
    "\n",
    "import pandas #importing panda funtions from the python directory\n",
    "import numpy as np #importing numpy from python directory\n",
    "np.set_printoptions(suppress = True)# suppress scientific notation\n",
    "nyc_water = pandas.read_csv('https://raw.githubusercontent.com/Vijayasuriya/Water_consumption_AP_ASSI3/main/M3_Data%20(1).csv').to_numpy()\n",
    "type(nyc_water) #the given file is uploaded to the github repository\n",
    "nyc_water       #and the link for the raw dataset are retrieved using csv retrieval function.\n",
    "np.max(nyc_water[:,2]) #the maximum yearly NYC consumption of water in millions of gallons per day is retreived using the slicing and max functions."
   ]
  },
  {
   "cell_type": "code",
   "execution_count": 7,
   "id": "4c502842",
   "metadata": {},
   "outputs": [
    {
     "data": {
      "text/plain": [
       "41"
      ]
     },
     "execution_count": 7,
     "metadata": {},
     "output_type": "execute_result"
    }
   ],
   "source": [
    "#Task 5.2 How many calendar years are represented within this data set? NumPy's shape command is one way to find\n",
    "#out.\n",
    "\n",
    "import pandas #importing panda funtions from the python directory\n",
    "import numpy as np #importing numpy from python directory\n",
    "np.set_printoptions(suppress = True) # suppress scientific notation\n",
    "nyc_water = pandas.read_csv('https://raw.githubusercontent.com/Vijayasuriya/Water_consumption_AP_ASSI3/main/M3_Data%20(1).csv').to_numpy()\n",
    "type(nyc_water) #the given file is uploaded to the github repository\n",
    "nyc_water       #and the link for the raw dataset are retrieved using csv retrieval function.\n",
    "total_number_of_years = nyc_water.shape[0] #Using numpy shape command for to retrieve the total years represented in the dataset.\n",
    "total_number_of_years #the desired result is retreived and printed"
   ]
  },
  {
   "cell_type": "code",
   "execution_count": 8,
   "id": "ac5cbfbf",
   "metadata": {},
   "outputs": [
    {
     "name": "stdout",
     "output_type": "stream",
     "text": [
      "The Mean of the per capita daily water consumption is: 158.41463414634146 \n",
      "The Standard deviation of the per capita daily water consumption is: 31.847177467886052\n"
     ]
    }
   ],
   "source": [
    "#Task 5.3 What is the mean and the standard deviation of the per capita daily water consumption?\n",
    "\n",
    "import pandas #importing panda funtions from the python directory\n",
    "import numpy as np #importing numpy from python directory\n",
    "np.set_printoptions(suppress = True) # suppress scientific notation\n",
    "nyc_water = pandas.read_csv('https://raw.githubusercontent.com/Vijayasuriya/Water_consumption_AP_ASSI3/main/M3_Data%20(1).csv').to_numpy()\n",
    "type(nyc_water) #the given file is uploaded to the github repository \n",
    "nyc_water       #and the link for the raw dataset are retrieved using csv retrieval function.\n",
    "m = np.mean(nyc_water[:,3]) #the mean is calculated using the mean function\n",
    "s_d = np.std(nyc_water[:,3]) #the standard deviation is calculated using the standard deviation function\n",
    "print('The Mean of the per capita daily water consumption is:',m,'\\nThe Standard deviation of the per capita daily water consumption is:', s_d)\n",
    "#the results are printed"
   ]
  },
  {
   "cell_type": "code",
   "execution_count": 9,
   "id": "c968191b",
   "metadata": {},
   "outputs": [
    {
     "data": {
      "text/plain": [
       "array([-30461. ,  17602. ,  19864. ,  72119. ,  53290. ,  39540. ,\n",
       "        45192. ,  23230. ,  11243. ,  -9544. ,  -8525. ,  38851. ,\n",
       "        54443. ,  77222. ,  64292. ,  62582. ,  64772. ,  75631. ,\n",
       "        84816. ,  89401. ,  60618. ,  16685.5,  16685.5,  16685.5,\n",
       "        16685.5,  16685.5,  16685.5,  16685.5,  16685.5,  16685.5,\n",
       "        16685.5,  97830. ,  75069. ,  50707. ,  38648. ,  30794. ,\n",
       "         7795. , -37705. , -39523. , -61931. ])"
      ]
     },
     "execution_count": 9,
     "metadata": {},
     "output_type": "execute_result"
    }
   ],
   "source": [
    "#Task 5.4 What is the increase or decrease in population from year to year? Use NumPy's `diff` function to \n",
    "#create an array of differences and save that to a variable called \"pop_diff\", then print that variable to the screen.\n",
    " \n",
    "import pandas #importing panda funtions from the python directory\n",
    "import numpy as np #importing numpy from python directory\n",
    "np.set_printoptions(suppress = True) # suppress scientific notation\n",
    "nyc_water = pandas.read_csv('https://raw.githubusercontent.com/Vijayasuriya/Water_consumption_AP_ASSI3/main/M3_Data%20(1).csv').to_numpy()\n",
    "type(nyc_water) #the given file is uploaded to the github repository \n",
    "nyc_water       #and the link for the raw dataset are retrieved using csv retrieval function.\n",
    "\n",
    "pop_diff = np.diff(nyc_water[:,1]) #the increase or decrease in population from year to year is calculated using differential functions as directed by the task given.\n",
    "pop_diff #the desired result is retuned and displayed."
   ]
  },
  {
   "cell_type": "markdown",
   "id": "710c56ff",
   "metadata": {},
   "source": [
    "Python and NumPy to address a variety of analytical tasks, from array operations to statistical analysis, highlighting the power and flexibility of these tools for data science."
   ]
  }
 ],
 "metadata": {
  "kernelspec": {
   "display_name": "Python 3 (ipykernel)",
   "language": "python",
   "name": "python3"
  },
  "language_info": {
   "codemirror_mode": {
    "name": "ipython",
    "version": 3
   },
   "file_extension": ".py",
   "mimetype": "text/x-python",
   "name": "python",
   "nbconvert_exporter": "python",
   "pygments_lexer": "ipython3",
   "version": "3.11.5"
  }
 },
 "nbformat": 4,
 "nbformat_minor": 5
}
